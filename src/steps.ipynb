{
 "cells": [
  {
   "cell_type": "markdown",
   "metadata": {},
   "source": [
    "# GeoSpatial Data Project"
   ]
  },
  {
   "cell_type": "markdown",
   "metadata": {},
   "source": [
    "### Step 1: Define Criteria Weights"
   ]
  },
  {
   "cell_type": "markdown",
   "metadata": {},
   "source": [
    "Before we dive into data collection and analysis, we need to establish the importance of each criterion.\n",
    "\n",
    "- Proximity to other design companies: High importance (as it impacts daily inspiration and networking) - Weight: 15%\n",
    "- School density for employees' children: Very high importance (as 30% of the staff are parents) - Weight: 20%\n",
    "- Nearby successful tech startups: High importance (for potential partnerships and talent acquisition) - Weight: 15%\n",
    "- Starbucks proximity for executives: Medium importance - Weight: 10%\n",
    "- Travel hubs for account managers: High importance (due to travel frequency) - Weight: 15%\n",
    "- Entertainment venues for younger demographic (Bars): Medium importance - Weight: 10%\n",
    "- Vegan options for the CEO: Low importance (as it affects only one person, albeit the CEO) - Weight: 5%\n",
    "- Basketball stadium for the maintenance person: Low importance (affects one person) - Weight: 5%\n",
    "- Pet groomer for the office dog: Low importance - Weight: 5%"
   ]
  },
  {
   "cell_type": "markdown",
   "metadata": {},
   "source": [
    "### Step 2: Data Collection"
   ]
  },
  {
   "cell_type": "markdown",
   "metadata": {},
   "source": [
    "Now, we need to gather the data for each criterion.\n",
    "\n",
    "- \n",
    "- Startup Companies\n",
    "- Schools\n",
    "- Tech Startups\n",
    "- Starbucks\n",
    "- Entertainment Venues\n",
    "- Vegan Restaurants\n",
    "- Basketball Stadiums\n",
    "- Pet Groomers"
   ]
  },
  {
   "cell_type": "markdown",
   "metadata": {},
   "source": []
  }
 ],
 "metadata": {
  "language_info": {
   "name": "python"
  }
 },
 "nbformat": 4,
 "nbformat_minor": 2
}
